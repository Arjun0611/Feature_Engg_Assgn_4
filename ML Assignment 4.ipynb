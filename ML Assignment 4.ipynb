{
 "cells": [
  {
   "cell_type": "code",
   "execution_count": 2,
   "id": "e24519fc-3f8e-4132-a65e-640509f782e9",
   "metadata": {},
   "outputs": [],
   "source": [
    "# Q1.\n",
    "\n",
    "# Data encoding is the process of converting data from one format to another and is crucial in data science for tasks like handling categorical data, feature engineering, and ensuring data compatibility with machine learning algorithm."
   ]
  },
  {
   "cell_type": "code",
   "execution_count": 3,
   "id": "1a79e7a3-9e2d-4698-a4cb-0cd8c9aec105",
   "metadata": {},
   "outputs": [],
   "source": [
    "# Q2.\n",
    "\n",
    "# Nominal encoding is a technique used to convert categorical data into a numerical format. \n",
    "\n",
    "# In this method, each category or label is transformed into a binary vector, where each category corresponds to a unique binary code.\n",
    "\n",
    "# Scenario: Customer Segmentation\n",
    "\n",
    "# Imagine you are working for an e-commerce company, and you want to perform customer segmentation based on their preferred payment methods. The payment methods include \"Credit Card,\" \"PayPal,\" and \"Bitcoin.\"\n",
    "\n",
    "# Using nominal encoding:\n",
    "\n",
    "# 'Credit Card' can be encoded as [1,0,0]\n",
    "# 'Pay Pal' can be encoded as [0,1,0]\n",
    "# 'Bitcoin' can be encoded as [0,0,1]"
   ]
  },
  {
   "cell_type": "code",
   "execution_count": 4,
   "id": "db09166c-870a-4d60-a60d-4e5eb30ec799",
   "metadata": {},
   "outputs": [],
   "source": [
    "#Q3.\n",
    "\n",
    "# Nominal encoding is preferred over one-hot encoding when dealing with high-cardinality categorical variables.\n",
    "\n",
    "# It helps manage dimensionality when there are many unique categories.\n",
    "\n",
    "# One-hot encoding can lead to significant increase in dataset size, making it impractical. It can lead to sparse matrix which causes overfitting.\n",
    "\n",
    "# Nominal encoding represents categories with numerical codes, preserving information while reducing dimensionality.\n",
    "\n",
    "# Practical Example: Using nominal encoding for \"used_id\" in customer review data with a large number of unique user IDs."
   ]
  },
  {
   "cell_type": "code",
   "execution_count": 5,
   "id": "dbb42b7d-7f9e-4859-9378-7f692cb08657",
   "metadata": {},
   "outputs": [],
   "source": [
    "#Q4.\n",
    "\n",
    "# I would use one-hot encoding to transform the categorical data with 5 unique values into a format suitable for machine learning algorithms.\n",
    "\n",
    "# Here's why:\n",
    "\n",
    "# It is preferred technique for handling a small number of unique categorical values because it effectively represents each category without introducing unintended ordinal relationships.\n"
   ]
  },
  {
   "cell_type": "code",
   "execution_count": 6,
   "id": "6d872e99-94c2-43a4-a1a3-62fc3daee86d",
   "metadata": {},
   "outputs": [],
   "source": [
    "# Q5.\n",
    "\n",
    "# If I use nominal encoding (one-hot encoding) to transform categorical data, I create a new binary column for each unique value in the original categorical column.\n",
    "\n",
    "# No. of new clomns created = Total count of unique values in the two categorical columns combined.\n",
    "\n",
    "# e.g.\n",
    "\n",
    "# For the first categorical column with 4 unique values, I would create 4 new binary columns.\n",
    "\n",
    "# For the second categorical column with 5 unique values, I would create 5 new binary columns.\n",
    "\n",
    "# Total would be 9 new columns."
   ]
  },
  {
   "cell_type": "code",
   "execution_count": 1,
   "id": "41efef9d-7557-41df-9f67-75876bb735ae",
   "metadata": {},
   "outputs": [],
   "source": [
    "#Q6.\n",
    "\n",
    "# One-hot encoding is preferred.\n",
    "# Preserves independence of categories.\n",
    "# Prevents assumption of ordinal relationships.\n",
    "# Creates binary columns for each category (i.e. species, habitat, diet)\n",
    "# Aligns with machine learning algorithm requirementts."
   ]
  },
  {
   "cell_type": "code",
   "execution_count": 2,
   "id": "4ab1bf6b-f0f2-41df-a562-52511e8e4121",
   "metadata": {},
   "outputs": [],
   "source": [
    "#Q7.\n",
    "\n",
    "# To predict customer churn in a telecoms project, we can use a combination of label-encoding and one-hot encoding.\n",
    "\n",
    "#1. Label Encoding for Binary Categorical Features (Gender and Contract Type):\n",
    "# For binary categorical feeatures like \"Gender\" and \"Contract Type,\" you can use label encoding since they have only two unique values.\n",
    "# For example, for Gender category we can encode \"Male\" as 0 and \"Female\" as 1.\n",
    "# Likewise, for Contract Type if its \"Month-to-Month\" and \"Two Year\", we can encode \"Month-to-Month\" as 0 and \"Two Year\" as 1.\n",
    "\n",
    "#2. One-Hot Encoding for Non-Binary Categorical Features (Monthly Charges and Tenure):\n",
    "# For \"Monthly Charges,\" we may have columns like \"Low Monthly Charges,\" \"Medium Monthly Charges,\" and \"High Monthly Charges.\"\n",
    "# For \"Tenure,\" if categories are \"Short Tenure,\" \"Medium Tenure,\" and \"Long Tenure,\" create corresponding binary columns.\n",
    "\n",
    "# By following this approach, we will have transformed all categorical features into numerical format, making them suitable for machine learning algorithms. This hybrid approach combines the simplicity of label encoding for binary features and the expressiveness of one-hot encoding for non-binary features, helping our model effectively capture patterns related to customer churn."
   ]
  },
  {
   "cell_type": "code",
   "execution_count": 3,
   "id": "b4fb5266-e555-4841-85bd-806c54694bd8",
   "metadata": {},
   "outputs": [],
   "source": [
    "# End"
   ]
  },
  {
   "cell_type": "code",
   "execution_count": null,
   "id": "ea1f78d5-7963-4c04-b174-f28de810e52c",
   "metadata": {},
   "outputs": [],
   "source": []
  }
 ],
 "metadata": {
  "kernelspec": {
   "display_name": "Python 3 (ipykernel)",
   "language": "python",
   "name": "python3"
  },
  "language_info": {
   "codemirror_mode": {
    "name": "ipython",
    "version": 3
   },
   "file_extension": ".py",
   "mimetype": "text/x-python",
   "name": "python",
   "nbconvert_exporter": "python",
   "pygments_lexer": "ipython3",
   "version": "3.10.8"
  }
 },
 "nbformat": 4,
 "nbformat_minor": 5
}
